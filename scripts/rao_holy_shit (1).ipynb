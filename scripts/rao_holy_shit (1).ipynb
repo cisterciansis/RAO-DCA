{
 "cells": [
  {
   "cell_type": "code",
   "execution_count": null,
   "metadata": {},
   "outputs": [],
   "source": [
    "!pip install pandas numpy plotly nbformat tqdm\n"
   ]
  },
  {
   "cell_type": "code",
   "execution_count": 2,
   "metadata": {},
   "outputs": [],
   "source": [
    "import tqdm\n",
    "import pandas as pd\n",
    "import bittensor as bt\n",
    "import plotly.express as px"
   ]
  },
  {
   "cell_type": "code",
   "execution_count": null,
   "metadata": {},
   "outputs": [],
   "source": [
    "bt.__version__"
   ]
  },
  {
   "cell_type": "code",
   "execution_count": 4,
   "metadata": {},
   "outputs": [],
   "source": [
    "sub = bt.subtensor(network='archive')"
   ]
  },
  {
   "cell_type": "code",
   "execution_count": null,
   "metadata": {},
   "outputs": [],
   "source": [
    "block = sub.get_current_block()\n",
    "block"
   ]
  },
  {
   "cell_type": "code",
   "execution_count": null,
   "metadata": {},
   "outputs": [],
   "source": [
    "# get all metagraphs info -- RIP finney (takes 1.5 minutes...)\n",
    "pbar = tqdm.tqdm(range(block, block - 361 , -24))\n",
    "frames = []\n",
    "for block in pbar:\n",
    "    info = sub.get_all_metagraphs_info(block=block)\n",
    "    frame = pd.DataFrame([\n",
    "        {\n",
    "            k: getattr(v, 'tao', v) \n",
    "            for k, v in subnet.__dict__.items() if not k.startswith('_')\n",
    "        } for subnet in info\n",
    "        ])\n",
    "    frames.append(frame.assign(block=block))"
   ]
  },
  {
   "cell_type": "code",
   "execution_count": 10,
   "metadata": {},
   "outputs": [],
   "source": [
    "df = pd.concat(frames)\n",
    "df_now = frame.sort_values(by='tao_in_emission', ascending=False)"
   ]
  },
  {
   "cell_type": "code",
   "execution_count": null,
   "metadata": {},
   "outputs": [],
   "source": [
    "px.bar(df_now.sort_values(by='tao_in_emission', ascending=False).reset_index().head(30), \n",
    "       y='tao_in_emission', \n",
    "       text='netuid',\n",
    "       color='tao_in_emission',\n",
    "       color_continuous_scale='BlueRed',\n",
    "       title='TAO in emission by subnet', \n",
    "       labels={'_index': 'Subnet Rank', 'netuid': 'Subnet', 'tao_in_emission': 'TAO in emission'},\n",
    "       width=800, height=600,\n",
    "       template='plotly_dark'\n",
    "       ).update_layout(coloraxis_showscale=False)"
   ]
  },
  {
   "cell_type": "code",
   "execution_count": null,
   "metadata": {},
   "outputs": [],
   "source": [
    "px.line(df.loc[df.netuid.isin(df_now.netuid.index[:10])], \n",
    "        x='block',\n",
    "        y='tao_in_emission', \n",
    "        color='netuid',\n",
    "        title='TAO in emission by subnet', \n",
    "       labels={'_index': 'Subnet Rank', 'netuid': 'Subnet', 'tao_in_emission': 'TAO in emission'},\n",
    "       width=800, height=600,\n",
    "       template='plotly_dark'\n",
    "       ).update_layout(coloraxis_showscale=False)"
   ]
  }
 ],
 "metadata": {
  "kernelspec": {
   "display_name": "rao",
   "language": "python",
   "name": "python3"
  },
  "language_info": {
   "codemirror_mode": {
    "name": "ipython",
    "version": 3
   },
   "file_extension": ".py",
   "mimetype": "text/x-python",
   "name": "python",
   "nbconvert_exporter": "python",
   "pygments_lexer": "ipython3",
   "version": "3.11.11"
  }
 },
 "nbformat": 4,
 "nbformat_minor": 2
}
